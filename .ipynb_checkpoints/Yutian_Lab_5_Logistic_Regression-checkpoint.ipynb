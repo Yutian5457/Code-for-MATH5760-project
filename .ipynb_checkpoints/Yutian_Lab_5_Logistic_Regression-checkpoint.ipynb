{
 "cells": [
  {
   "cell_type": "markdown",
   "metadata": {},
   "source": [
    "# Python Lab 5: Logistic Regression"
   ]
  },
  {
   "cell_type": "markdown",
   "metadata": {},
   "source": [
    "The first goal of this lab is to experiment with logistic regression. After performing logistic regression on all your data, we then redo logostic regression using test-train splits."
   ]
  },
  {
   "cell_type": "markdown",
   "metadata": {},
   "source": [
    "### Part 0: Import Packages and Data"
   ]
  },
  {
   "cell_type": "code",
   "execution_count": 1,
   "metadata": {},
   "outputs": [],
   "source": [
    "# Import some pacakges\n",
    "import numpy as np\n",
    "import pandas as pd\n",
    "import seaborn as sns\n",
    "import sklearn\n",
    "import scipy\n",
    "import matplotlib.pyplot as plt\n",
    "%matplotlib inline"
   ]
  },
  {
   "cell_type": "code",
   "execution_count": 2,
   "metadata": {},
   "outputs": [
    {
     "data": {
      "text/html": [
       "<div>\n",
       "<style scoped>\n",
       "    .dataframe tbody tr th:only-of-type {\n",
       "        vertical-align: middle;\n",
       "    }\n",
       "\n",
       "    .dataframe tbody tr th {\n",
       "        vertical-align: top;\n",
       "    }\n",
       "\n",
       "    .dataframe thead th {\n",
       "        text-align: right;\n",
       "    }\n",
       "</style>\n",
       "<table border=\"1\" class=\"dataframe\">\n",
       "  <thead>\n",
       "    <tr style=\"text-align: right;\">\n",
       "      <th></th>\n",
       "      <th>Rented Bike Count</th>\n",
       "      <th>Hour</th>\n",
       "      <th>Temperature</th>\n",
       "      <th>Humidity</th>\n",
       "      <th>Seasons</th>\n",
       "    </tr>\n",
       "  </thead>\n",
       "  <tbody>\n",
       "    <tr>\n",
       "      <th>11</th>\n",
       "      <td>360</td>\n",
       "      <td>11</td>\n",
       "      <td>-0.5</td>\n",
       "      <td>21</td>\n",
       "      <td>Winter</td>\n",
       "    </tr>\n",
       "    <tr>\n",
       "      <th>12</th>\n",
       "      <td>449</td>\n",
       "      <td>12</td>\n",
       "      <td>1.7</td>\n",
       "      <td>23</td>\n",
       "      <td>Winter</td>\n",
       "    </tr>\n",
       "    <tr>\n",
       "      <th>13</th>\n",
       "      <td>451</td>\n",
       "      <td>13</td>\n",
       "      <td>2.4</td>\n",
       "      <td>25</td>\n",
       "      <td>Winter</td>\n",
       "    </tr>\n",
       "    <tr>\n",
       "      <th>14</th>\n",
       "      <td>447</td>\n",
       "      <td>14</td>\n",
       "      <td>3.0</td>\n",
       "      <td>26</td>\n",
       "      <td>Winter</td>\n",
       "    </tr>\n",
       "    <tr>\n",
       "      <th>15</th>\n",
       "      <td>463</td>\n",
       "      <td>15</td>\n",
       "      <td>2.1</td>\n",
       "      <td>36</td>\n",
       "      <td>Winter</td>\n",
       "    </tr>\n",
       "  </tbody>\n",
       "</table>\n",
       "</div>"
      ],
      "text/plain": [
       "    Rented Bike Count  Hour  Temperature  Humidity Seasons\n",
       "11                360    11         -0.5        21  Winter\n",
       "12                449    12          1.7        23  Winter\n",
       "13                451    13          2.4        25  Winter\n",
       "14                447    14          3.0        26  Winter\n",
       "15                463    15          2.1        36  Winter"
      ]
     },
     "execution_count": 2,
     "metadata": {},
     "output_type": "execute_result"
    }
   ],
   "source": [
    "import urllib.request \n",
    "# urllib.request.urlretrieve(\"https://archive.ics.uci.edu/ml/machine-learning-databases/iris/iris.data\", \"iris.csv\")\n",
    "\n",
    "df_mydata = pd.read_csv('NewSeoulBikeData.csv')\n",
    "df_mydata = df_mydata[df_mydata['Hour']>=11]\n",
    "df_mydata = df_mydata[df_mydata['Hour']<=15]\n",
    "# View the type\n",
    "type(df_mydata)\n",
    "\n",
    "# # Specify the column names that you want to use as features in this model.\n",
    "headers =  [\"Rented Bike Count\",\"Hour\",\"Temperature\",\"Humidity\",\"Seasons\"]\n",
    "df_mydata.columns = headers\n",
    "\n",
    "# If your data set is large, this the \"head()\" function let's you view the first few entries to see what's inside.\n",
    "df_mydata.head()"
   ]
  },
  {
   "cell_type": "markdown",
   "metadata": {},
   "source": [
    "## Part 1: Logistic Regression"
   ]
  },
  {
   "cell_type": "code",
   "execution_count": 3,
   "metadata": {},
   "outputs": [],
   "source": [
    "from sklearn.linear_model import LogisticRegression\n",
    "from scipy.special import expit"
   ]
  },
  {
   "cell_type": "markdown",
   "metadata": {},
   "source": [
    "We have experimented with linear regression briefly but have seen that it is not always suitable. When your labels are not ordered numerically, for example boolean data, logisitc regression may be a better choice. The simplest logist regression models use only two possible labels, although these can be expanded. To illustrate this with the iris data set, we will choose two of the three species: setosa and versicolor. We will use logistic regression to predict these two possible lables.\n",
    "\n",
    "https://scikit-learn.org/stable/modules/generated/sklearn.linear_model.LogisticRegression.html"
   ]
  },
  {
   "cell_type": "markdown",
   "metadata": {},
   "source": [
    "Part of this tutorial on Logistic Regression is adapted from the tutorial in the following link, which illustrates an example using the iris data set in more detail. It also includes a more detailed explanation of linear regression.  It also includes examples using multiple variables and multiple labels.\n",
    "\n",
    "https://github.com/ageron/handson-ml2/blob/master/04_training_linear_models.ipynb"
   ]
  },
  {
   "cell_type": "markdown",
   "metadata": {},
   "source": [
    "### Part 1.0: Comparing Two Labels"
   ]
  },
  {
   "cell_type": "markdown",
   "metadata": {},
   "source": [
    "To illustrate logistic regression with two labels, we will take the first two (of 3) labels in the iris data set."
   ]
  },
  {
   "cell_type": "code",
   "execution_count": 4,
   "metadata": {},
   "outputs": [
    {
     "data": {
      "text/plain": [
       "array(['Winter', 'Spring', 'Summer', 'Autumn'], dtype=object)"
      ]
     },
     "execution_count": 4,
     "metadata": {},
     "output_type": "execute_result"
    }
   ],
   "source": [
    "# We can see a list of all the distinct species of iris in this data set\n",
    "df_mydata[\"Seasons\"].unique()"
   ]
  },
  {
   "cell_type": "code",
   "execution_count": 5,
   "metadata": {},
   "outputs": [],
   "source": [
    "# Select just the rows that have 'setosa' or 'versicolor' in the \"species\" column.\n",
    "df_S_S = df_mydata[df_mydata['Seasons'].isin(['Spring', 'Summer']) ]\n",
    "\n",
    "# Alternative code to do the same thing\n",
    "#df_setosa_versicolor = df_mydata.loc[df_mydata['species'] != 'virginica']"
   ]
  },
  {
   "cell_type": "code",
   "execution_count": 6,
   "metadata": {},
   "outputs": [
    {
     "data": {
      "text/plain": [
       "(920, 5)"
      ]
     },
     "execution_count": 6,
     "metadata": {},
     "output_type": "execute_result"
    }
   ],
   "source": [
    "# This takes the subset of the irises corresponding to these two species\n",
    "df_S_S.shape"
   ]
  },
  {
   "cell_type": "code",
   "execution_count": null,
   "metadata": {},
   "outputs": [],
   "source": []
  },
  {
   "cell_type": "markdown",
   "metadata": {},
   "source": [
    "### Part 1.1: Running Logistic Regression Using One Feature"
   ]
  },
  {
   "cell_type": "markdown",
   "metadata": {},
   "source": [
    "We can run a logistic regression model on the iris data as follows. It predicts whether a given iris is \"setosa\" or \"versicolor\". We can use more than one feature, but we'll start with one feature so that we can look at corresponding decision boundary."
   ]
  },
  {
   "cell_type": "code",
   "execution_count": 7,
   "metadata": {},
   "outputs": [
    {
     "data": {
      "text/html": [
       "<style>#sk-container-id-1 {color: black;background-color: white;}#sk-container-id-1 pre{padding: 0;}#sk-container-id-1 div.sk-toggleable {background-color: white;}#sk-container-id-1 label.sk-toggleable__label {cursor: pointer;display: block;width: 100%;margin-bottom: 0;padding: 0.3em;box-sizing: border-box;text-align: center;}#sk-container-id-1 label.sk-toggleable__label-arrow:before {content: \"▸\";float: left;margin-right: 0.25em;color: #696969;}#sk-container-id-1 label.sk-toggleable__label-arrow:hover:before {color: black;}#sk-container-id-1 div.sk-estimator:hover label.sk-toggleable__label-arrow:before {color: black;}#sk-container-id-1 div.sk-toggleable__content {max-height: 0;max-width: 0;overflow: hidden;text-align: left;background-color: #f0f8ff;}#sk-container-id-1 div.sk-toggleable__content pre {margin: 0.2em;color: black;border-radius: 0.25em;background-color: #f0f8ff;}#sk-container-id-1 input.sk-toggleable__control:checked~div.sk-toggleable__content {max-height: 200px;max-width: 100%;overflow: auto;}#sk-container-id-1 input.sk-toggleable__control:checked~label.sk-toggleable__label-arrow:before {content: \"▾\";}#sk-container-id-1 div.sk-estimator input.sk-toggleable__control:checked~label.sk-toggleable__label {background-color: #d4ebff;}#sk-container-id-1 div.sk-label input.sk-toggleable__control:checked~label.sk-toggleable__label {background-color: #d4ebff;}#sk-container-id-1 input.sk-hidden--visually {border: 0;clip: rect(1px 1px 1px 1px);clip: rect(1px, 1px, 1px, 1px);height: 1px;margin: -1px;overflow: hidden;padding: 0;position: absolute;width: 1px;}#sk-container-id-1 div.sk-estimator {font-family: monospace;background-color: #f0f8ff;border: 1px dotted black;border-radius: 0.25em;box-sizing: border-box;margin-bottom: 0.5em;}#sk-container-id-1 div.sk-estimator:hover {background-color: #d4ebff;}#sk-container-id-1 div.sk-parallel-item::after {content: \"\";width: 100%;border-bottom: 1px solid gray;flex-grow: 1;}#sk-container-id-1 div.sk-label:hover label.sk-toggleable__label {background-color: #d4ebff;}#sk-container-id-1 div.sk-serial::before {content: \"\";position: absolute;border-left: 1px solid gray;box-sizing: border-box;top: 0;bottom: 0;left: 50%;z-index: 0;}#sk-container-id-1 div.sk-serial {display: flex;flex-direction: column;align-items: center;background-color: white;padding-right: 0.2em;padding-left: 0.2em;position: relative;}#sk-container-id-1 div.sk-item {position: relative;z-index: 1;}#sk-container-id-1 div.sk-parallel {display: flex;align-items: stretch;justify-content: center;background-color: white;position: relative;}#sk-container-id-1 div.sk-item::before, #sk-container-id-1 div.sk-parallel-item::before {content: \"\";position: absolute;border-left: 1px solid gray;box-sizing: border-box;top: 0;bottom: 0;left: 50%;z-index: -1;}#sk-container-id-1 div.sk-parallel-item {display: flex;flex-direction: column;z-index: 1;position: relative;background-color: white;}#sk-container-id-1 div.sk-parallel-item:first-child::after {align-self: flex-end;width: 50%;}#sk-container-id-1 div.sk-parallel-item:last-child::after {align-self: flex-start;width: 50%;}#sk-container-id-1 div.sk-parallel-item:only-child::after {width: 0;}#sk-container-id-1 div.sk-dashed-wrapped {border: 1px dashed gray;margin: 0 0.4em 0.5em 0.4em;box-sizing: border-box;padding-bottom: 0.4em;background-color: white;}#sk-container-id-1 div.sk-label label {font-family: monospace;font-weight: bold;display: inline-block;line-height: 1.2em;}#sk-container-id-1 div.sk-label-container {text-align: center;}#sk-container-id-1 div.sk-container {/* jupyter's `normalize.less` sets `[hidden] { display: none; }` but bootstrap.min.css set `[hidden] { display: none !important; }` so we also need the `!important` here to be able to override the default hidden behavior on the sphinx rendered scikit-learn.org. See: https://github.com/scikit-learn/scikit-learn/issues/21755 */display: inline-block !important;position: relative;}#sk-container-id-1 div.sk-text-repr-fallback {display: none;}</style><div id=\"sk-container-id-1\" class=\"sk-top-container\"><div class=\"sk-text-repr-fallback\"><pre>LogisticRegression()</pre><b>In a Jupyter environment, please rerun this cell to show the HTML representation or trust the notebook. <br />On GitHub, the HTML representation is unable to render, please try loading this page with nbviewer.org.</b></div><div class=\"sk-container\" hidden><div class=\"sk-item\"><div class=\"sk-estimator sk-toggleable\"><input class=\"sk-toggleable__control sk-hidden--visually\" id=\"sk-estimator-id-1\" type=\"checkbox\" checked><label for=\"sk-estimator-id-1\" class=\"sk-toggleable__label sk-toggleable__label-arrow\">LogisticRegression</label><div class=\"sk-toggleable__content\"><pre>LogisticRegression()</pre></div></div></div></div></div>"
      ],
      "text/plain": [
       "LogisticRegression()"
      ]
     },
     "execution_count": 7,
     "metadata": {},
     "output_type": "execute_result"
    }
   ],
   "source": [
    "# Select the desired features, and the desired labels\n",
    "X_sv = df_S_S[['Temperature']].values\n",
    "Y_sv = df_S_S['Seasons']\n",
    "\n",
    "# Fit the data to the Logistic Regression Model\n",
    "log_reg = LogisticRegression()\n",
    "log_reg.fit(X_sv, Y_sv)"
   ]
  },
  {
   "cell_type": "code",
   "execution_count": 8,
   "metadata": {},
   "outputs": [],
   "source": [
    "# Choose some convenient bounds for the x-axis\n",
    "max_Temperature = max(df_S_S[['Temperature']].values)+1\n",
    "min_Temperature = min(df_S_S[['Temperature']].values)-1\n",
    "\n",
    "# Plot 1000 points along the logistic curve to see\n",
    "X_sv_compare = np.linspace(min_Temperature, max_Temperature, 1000).reshape(-1, 1)\n",
    "y_sv_compare_probability = log_reg.predict_proba(X_sv_compare)\n",
    "\n",
    "#  Set decision boundary to be used in figure below.  Currently set at p = 0.5\n",
    "decision_boundary = X_sv_compare[y_sv_compare_probability[:, 1] >= 0.5][0]"
   ]
  },
  {
   "cell_type": "markdown",
   "metadata": {},
   "source": [
    "In the line above, we started creating the figure which we finish in the line below.<br>\n",
    "<b>WARNING:</b>  the decision_boundary is only used to create the figure.  It does NOT affect the decision boundary for logistic regression.  Thus it will not affect the metrics that we calculate below."
   ]
  },
  {
   "cell_type": "code",
   "execution_count": 31,
   "metadata": {},
   "outputs": [
    {
     "data": {
      "image/png": "[encoded data removed]",
      "text/plain": [
       "<Figure size 1100x400 with 1 Axes>"
      ]
     },
     "metadata": {},
     "output_type": "display_data"
    }
   ],
   "source": [
    "#  Choose size of figure\n",
    "plt.figure(figsize=(11, 4))\n",
    "\n",
    "# plot points corresponding to Iris-setosa and Iris-versicolor\n",
    "plt.plot(X_sv[Y_sv=='Spring'], Y_sv[Y_sv=='Spring'], \"bs\")\n",
    "plt.plot(X_sv[Y_sv=='Summer'], Y_sv[Y_sv=='Summer'], \"g^\")\n",
    "\n",
    "# Plot the logistic curve; second curve is for comparison\n",
    "plt.plot(X_sv_compare, y_sv_compare_probability[:, 1], \"g-\", linewidth=2, label=\"Summer\")\n",
    "plt.plot(X_sv_compare, y_sv_compare_probability[:, 0], \"b--\", linewidth=2, label=\"Spring\")\n",
    "\n",
    "# Plot the decision boundary\n",
    "plt.plot([decision_boundary, decision_boundary], [-1, 3], \"k:\", linewidth=2)\n",
    "plt.text(decision_boundary+0.02, -0.8, \"Decision  boundary\", fontsize=14, color=\"k\", ha=\"center\")\n",
    "\n",
    "\n",
    "plt.arrow(decision_boundary[0], -0.2, -0.3, 0, head_width=0.05, head_length=0.1, fc='b', ec='b')\n",
    "plt.arrow(decision_boundary[0], 1.2, 0.3, 0, head_width=0.05, head_length=0.1, fc='g', ec='g')\n",
    "\n",
    "# Label plot\n",
    "plt.xlabel('Temperature', fontsize=20)\n",
    "plt.ylabel('Probability of choosing bike in Summer', fontsize=15)\n",
    "plt.title('Logistic Curve Showing Probability of the bike count in Summer Based on Temperature', fontsize = 15);\n",
    "plt.legend(loc=\"upper left\", fontsize=14)\n",
    "plt.show()\n",
    "# sns.set_context(\"paper\",rc={\"axes.labelsize\":30})\n",
    "# # plt.rc('legend', fontsize=30,title_fontsize=30)\n"
   ]
  },
  {
   "cell_type": "markdown",
   "metadata": {},
   "source": [
    "### Part 1.2: Comparing Predicted Labels with Actual Labels"
   ]
  },
  {
   "cell_type": "code",
   "execution_count": 10,
   "metadata": {
    "tags": []
   },
   "outputs": [
    {
     "name": "stdout",
     "output_type": "stream",
     "text": [
      "Actually Spring: 460 Predicted Spring: 460\n",
      "Actually Summer: 460 Predicted Summer: 460\n"
     ]
    }
   ],
   "source": [
    "y_pred = log_reg.predict(X_sv)\n",
    "actually_Spring = np.sum(Y_sv == \"Spring\")\n",
    "labeled_Spring = np.sum(y_pred == \"Spring\")\n",
    "print(f\"Actually Spring: {actually_Spring} Predicted Spring: {labeled_Spring}\")\n",
    "\n",
    "actually_Summer = np.sum(Y_sv == \"Summer\")\n",
    "labeled_Summer = np.sum(y_pred == \"Summer\")\n",
    "\n",
    "print(f\"Actually Summer: {actually_Summer} Predicted Summer: {labeled_Summer}\")"
   ]
  },
  {
   "cell_type": "markdown",
   "metadata": {},
   "source": [
    "The above data does not distinguish between false versus true postives (and similarly for negatives), so we use the confusion matrix."
   ]
  },
  {
   "cell_type": "code",
   "execution_count": 11,
   "metadata": {},
   "outputs": [
    {
     "name": "stdout",
     "output_type": "stream",
     "text": [
      "[[416  44]\n",
      " [ 44 416]]\n"
     ]
    }
   ],
   "source": [
    "#from sklearn import metrics and call it metrics.\n",
    "import sklearn.metrics as metrics\n",
    "cm = metrics.confusion_matrix(Y_sv, y_pred)\n",
    "print(cm)"
   ]
  },
  {
   "cell_type": "code",
   "execution_count": 12,
   "metadata": {
    "tags": []
   },
   "outputs": [
    {
     "data": {
      "image/png": "[encoded data removed]",
      "text/plain": [
       "<Figure size 640x480 with 2 Axes>"
      ]
     },
     "metadata": {},
     "output_type": "display_data"
    }
   ],
   "source": [
    "# The 2x2 confusion matrix can also be visualized via a heat map.\n",
    "\n",
    "cnf_matrix = metrics.confusion_matrix(Y_sv, y_pred)\n",
    "disp = metrics.ConfusionMatrixDisplay(confusion_matrix=cnf_matrix, display_labels=[\"Spring\", \"Summer\"])\n",
    "disp.plot()\n",
    "plt.show()"
   ]
  },
  {
   "cell_type": "code",
   "execution_count": 13,
   "metadata": {},
   "outputs": [
    {
     "name": "stdout",
     "output_type": "stream",
     "text": [
      "Accuracy: 0.9043478260869565\n",
      "Precision: 0.9043478260869565\n",
      "Recall: 0.9043478260869565\n"
     ]
    }
   ],
   "source": [
    "print(\"Accuracy:\", metrics.accuracy_score(Y_sv, y_pred))\n",
    "print(\"Precision:\", metrics.precision_score(Y_sv, y_pred, pos_label=\"Summer\"))\n",
    "print(\"Recall:\", metrics.recall_score(Y_sv, y_pred, pos_label=\"Summer\"))"
   ]
  },
  {
   "cell_type": "markdown",
   "metadata": {
    "tags": []
   },
   "source": [
    "##  Part 2 We will now compare results using test/train"
   ]
  },
  {
   "cell_type": "markdown",
   "metadata": {},
   "source": [
    "We will first partition the data into test versus train ignoring the labels. Observe that the train and test data sets do not have the same ratio of versicolor to setosa.   The following code is modified from https://www.kaggle.com/code/viswanathanc/stratifiedshufflesplit-working-with-less-data"
   ]
  },
  {
   "cell_type": "code",
   "execution_count": 14,
   "metadata": {
    "tags": []
   },
   "outputs": [
    {
     "name": "stdout",
     "output_type": "stream",
     "text": [
      "Summer    351\n",
      "Spring    339\n",
      "Name: Seasons, dtype: int64\n",
      "Spring    121\n",
      "Summer    109\n",
      "Name: Seasons, dtype: int64\n"
     ]
    }
   ],
   "source": [
    "from sklearn.model_selection import train_test_split\n",
    "\n",
    "X = X_sv\n",
    "y = Y_sv\n",
    "\n",
    "X_train,X_test,y_train,y_test=train_test_split(X,y,random_state=13)\n",
    "print(y_train.value_counts())\n",
    "print(y_test.value_counts())"
   ]
  },
  {
   "cell_type": "code",
   "execution_count": 15,
   "metadata": {
    "tags": []
   },
   "outputs": [
    {
     "name": "stdout",
     "output_type": "stream",
     "text": [
      "0.9260869565217391\n"
     ]
    }
   ],
   "source": [
    "from sklearn.metrics import accuracy_score\n",
    "\n",
    "# Model 1 with stratified sample\n",
    "model1=LogisticRegression()\n",
    "model1.fit(X_train,y_train)\n",
    "y_pred_m1=model1.predict(X_test)\n",
    "acc_m1=accuracy_score(y_pred_m1,y_test)\n",
    "\n",
    "print(acc_m1)"
   ]
  },
  {
   "cell_type": "markdown",
   "metadata": {},
   "source": [
    "We will now run logistic regression 5 times using a 5-fold StratifiedShuffleSplit.  The following code is modified from https://www.geeksforgeeks.org/sklearn-stratifiedshufflesplit-function-in-python/"
   ]
  },
  {
   "cell_type": "code",
   "execution_count": 16,
   "metadata": {
    "tags": []
   },
   "outputs": [
    {
     "data": {
      "text/plain": [
       "5"
      ]
     },
     "execution_count": 16,
     "metadata": {},
     "output_type": "execute_result"
    }
   ],
   "source": [
    "from sklearn.model_selection import StratifiedShuffleSplit\n",
    "\n",
    "sss = StratifiedShuffleSplit(n_splits=5, test_size=0.5, random_state=0)\n",
    "sss.get_n_splits(X, y)"
   ]
  },
  {
   "cell_type": "code",
   "execution_count": 17,
   "metadata": {
    "tags": []
   },
   "outputs": [
    {
     "name": "stdout",
     "output_type": "stream",
     "text": [
      "[0.9065217391304348, 0.9065217391304348, 0.8978260869565218, 0.9195652173913044, 0.9021739130434783]\n"
     ]
    }
   ],
   "source": [
    "scores = []\n",
    "\n",
    "# using regression to get predicted data\n",
    "model1=LogisticRegression()\n",
    "\n",
    "X = np.array(X)\n",
    "y = np.array(y)\n",
    "\n",
    "for train_index, test_index in sss.split(X, y):\n",
    "    X_train, X_test = X[train_index], X[test_index]\n",
    "    y_train, y_test = y[train_index], y[test_index]\n",
    "    model1.fit(X_train, y_train)\n",
    "    pred = model1.predict(X_test)\n",
    "    scores.append(accuracy_score(y_test, pred))\n",
    "\n",
    "# get accuracy of each prediction\n",
    "print(scores)"
   ]
  },
  {
   "cell_type": "markdown",
   "metadata": {},
   "source": [
    "For the iris data, we expect good scores, so in this case the method did not have much on an effect on the result.  But in practice, one can get very different results. "
   ]
  },
  {
   "cell_type": "markdown",
   "metadata": {},
   "source": [
    "Logistic regression is a statistical model used for binary classification task. For the outcomes, it usually just have two possible results (0 and 1 are often used). And, logistic regression is much similar than linear regression we learned before, but the difference is instead of directly outputting the linear combination, it use a logistic (sigmoid) function to obtain the probability of the positive class."
   ]
  },
  {
   "cell_type": "markdown",
   "metadata": {},
   "source": [
    "For the graph of logistic regression, the x-axis usually represents the input features of the logistic regression model, in my code, I chose temperature. The y-axis represents the predicted probabilities of the positive classes, here I chose Spring and Summer from my dataset. At first, I chose Spring and Autumn, but the graph didn't look good, I think the problem is the temperature boundary between Spring and Autumn is not very clear, so it is not suitable for logistic regression analysis. For the Spring and Summer, we can see the clear decision boundary on the graph. And the two logistic lines are also clearly seperated. From the graph, we have the conclusion that when the temperature larger than decision boundary, people will rent bike more in Summer, when the temperature lower than decision boundary, people will rent bike more in Spring."
   ]
  },
  {
   "cell_type": "markdown",
   "metadata": {},
   "source": [
    "For the confusion matrix, it typically looks like:\n",
    "\n",
    "|                 | Predicted Negative | Predicted Positive |\n",
    "|-----------------|--------------------|--------------------|\n",
    "| Actual Negative | TN                 | FP                 |\n",
    "| Actual Positive | FN                 | TP                 |\n",
    "\n",
    "Then, we can get the accuracy, precision, and recall. For our dataset, we find they are all equal to 0.904. Then, we can compare our results using testing and training data. In our data, we found the training and test scores are closed to each other, which indicating a good balance between bias and variance."
   ]
  },
  {
   "cell_type": "code",
   "execution_count": null,
   "metadata": {},
   "outputs": [],
   "source": []
  }
 ],
 "metadata": {
  "kernelspec": {
   "display_name": "Python 3 (ipykernel)",
   "language": "python",
   "name": "python3"
  },
  "language_info": {
   "codemirror_mode": {
    "name": "ipython",
    "version": 3
   },
   "file_extension": ".py",
   "mimetype": "text/x-python",
   "name": "python",
   "nbconvert_exporter": "python",
   "pygments_lexer": "ipython3",
   "version": "3.11.4"
  }
 },
 "nbformat": 4,
 "nbformat_minor": 4
}
